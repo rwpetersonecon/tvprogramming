{
 "cells": [
  {
   "cell_type": "markdown",
   "metadata": {},
   "source": [
    "# Common-Ownership and Television Programming\n",
    "## Why is Law & Order the only thing on?"
   ]
  },
  {
   "cell_type": "markdown",
   "metadata": {},
   "source": [
    "Most traditional television networks like ABC, The History Channel, and HBO are owned by a parent company that owns several networks such as Disney, Comcast and ViacomCBS. Networks are often bought and sold between parent companies changing the portfolio of networks and begging the question: Does the choice of networks in a portfolio involve competitive product differentiation? For example, when Disney purchased Fox Family from Fox in 2001 was Disney looking to broaden the type of programming in its portfolio or produce more similar content to their existing portfolio?\n",
    "\n",
    "Two Theories:  \n",
    "1. Minimal Differentiation - Programmers choose content that is like their competitors' and split audiences.\n",
    "2. Maximal Differentiation - Programmers make choices to distinct content to attract audiences away from competitors.\n",
    "\n",
    "This project analyzes prime-time television programming schedules to understand how firms position their content by choosing the genre of their programming compared to competitors."
   ]
  },
  {
   "cell_type": "markdown",
   "metadata": {},
   "source": [
    "# Table of contents\n",
    "1. [Data](#data)\n",
    "    1. [Program Schedule](#scheduledata)\n",
    "    2. [Ownership](#ownership)\n",
    "    4. [Data Issues](#dataissues)\n",
    "2. [Measuring Differentiation](#differentiation)\n",
    "3. [Analysis](#analysis)\n",
    "    1. [Mergers in 2013](#merge2013)\n",
    "---"
   ]
  },
  {
   "cell_type": "markdown",
   "metadata": {},
   "source": [
    "# Data <a name=\"data\"></a>"
   ]
  },
  {
   "cell_type": "markdown",
   "metadata": {},
   "source": [
    "The television programming data used for this project was scraped from [TVTango.com](http://www.tvtango.com) a website that publishes nightly tv schedules in addition to tv news. Below you can see an example of the types of information included in the scrape. Most importantly it includes the network, the name of each show, and the length of the show. While some schedules included ratings information collected from Nielsen that data was limited to broadcast networks for most of the time period.\n",
    "  \n",
    "I combined the scraped schedules with genre categories obtained from [IMDB's](http://imdb.com) database of television shows and movies. Each show was attached to the first genre listed, but I consolidated the total number of genres as seen below.\n",
    "\n",
    "This data set covers the full calendar years from 2007 to 2016 comprising ten years of schedules. A noticeable absence is content from streaming platforms like Netflix and Hulu. It's interesting to note that Netflix started its online streaming product in 2007, but didn't produce original content until 2013. Because streaming platforms do not create programming schedules in the same ways that linear television networks do they are excluded from this analysis."
   ]
  },
  {
   "cell_type": "code",
   "execution_count": 2,
   "metadata": {},
   "outputs": [],
   "source": [
    "import pandas as pd\n",
    "import numpy as np\n",
    "import matplotlib.pyplot as plt\n",
    "import seaborn as sns\n",
    "from datetime import datetime\n",
    "import math\n",
    "from itertools import combinations\n",
    "import statsmodels.formula.api as smf"
   ]
  },
  {
   "cell_type": "markdown",
   "metadata": {},
   "source": [
    "## Programming Schedule Data <a name=\"scheduledata\"></a>\n",
    "\n",
    "This is the data cleaning of the scraped data. In addition to fixing typos I also limit the sample by removing some categories of networks that don't fit with the rest, namely channels primarily in a language that is not english, foreign channels, and pornographic networks."
   ]
  },
  {
   "cell_type": "code",
   "execution_count": 750,
   "metadata": {},
   "outputs": [
    {
     "data": {
      "text/html": [
       "<div>\n",
       "<style scoped>\n",
       "    .dataframe tbody tr th:only-of-type {\n",
       "        vertical-align: middle;\n",
       "    }\n",
       "\n",
       "    .dataframe tbody tr th {\n",
       "        vertical-align: top;\n",
       "    }\n",
       "\n",
       "    .dataframe thead th {\n",
       "        text-align: right;\n",
       "    }\n",
       "</style>\n",
       "<table border=\"1\" class=\"dataframe\">\n",
       "  <thead>\n",
       "    <tr style=\"text-align: right;\">\n",
       "      <th></th>\n",
       "      <th>show</th>\n",
       "      <th>duration(colspan)</th>\n",
       "      <th>network</th>\n",
       "      <th>date</th>\n",
       "      <th>isrepeat</th>\n",
       "      <th>rating</th>\n",
       "      <th>share</th>\n",
       "      <th>viewers</th>\n",
       "      <th>weekday</th>\n",
       "      <th>genre</th>\n",
       "      <th>weeknum</th>\n",
       "    </tr>\n",
       "  </thead>\n",
       "  <tbody>\n",
       "    <tr>\n",
       "      <th>0</th>\n",
       "      <td>Rose Bowl</td>\n",
       "      <td>6.0</td>\n",
       "      <td>ABC</td>\n",
       "      <td>1/1/07</td>\n",
       "      <td>0</td>\n",
       "      <td>13.8</td>\n",
       "      <td>21.0</td>\n",
       "      <td>NaN</td>\n",
       "      <td>2</td>\n",
       "      <td>sports</td>\n",
       "      <td>1</td>\n",
       "    </tr>\n",
       "    <tr>\n",
       "      <th>1</th>\n",
       "      <td>Rose Bowl Postgame</td>\n",
       "      <td>6.0</td>\n",
       "      <td>ABC</td>\n",
       "      <td>1/1/07</td>\n",
       "      <td>0</td>\n",
       "      <td>6.7</td>\n",
       "      <td>10.0</td>\n",
       "      <td>10.3</td>\n",
       "      <td>2</td>\n",
       "      <td>sports</td>\n",
       "      <td>1</td>\n",
       "    </tr>\n",
       "    <tr>\n",
       "      <th>2</th>\n",
       "      <td>Supernanny</td>\n",
       "      <td>12.0</td>\n",
       "      <td>ABC</td>\n",
       "      <td>1/1/07</td>\n",
       "      <td>1</td>\n",
       "      <td>4.5</td>\n",
       "      <td>7.0</td>\n",
       "      <td>6.7</td>\n",
       "      <td>2</td>\n",
       "      <td>reality</td>\n",
       "      <td>1</td>\n",
       "    </tr>\n",
       "    <tr>\n",
       "      <th>3</th>\n",
       "      <td>Supernanny</td>\n",
       "      <td>12.0</td>\n",
       "      <td>ABC</td>\n",
       "      <td>1/1/07</td>\n",
       "      <td>1</td>\n",
       "      <td>4.5</td>\n",
       "      <td>7.0</td>\n",
       "      <td>7.0</td>\n",
       "      <td>2</td>\n",
       "      <td>reality</td>\n",
       "      <td>1</td>\n",
       "    </tr>\n",
       "    <tr>\n",
       "      <th>4</th>\n",
       "      <td>Wildfire</td>\n",
       "      <td>12.0</td>\n",
       "      <td>ABC Family</td>\n",
       "      <td>1/1/07</td>\n",
       "      <td>0</td>\n",
       "      <td>NaN</td>\n",
       "      <td>NaN</td>\n",
       "      <td>NaN</td>\n",
       "      <td>2</td>\n",
       "      <td>drama</td>\n",
       "      <td>1</td>\n",
       "    </tr>\n",
       "  </tbody>\n",
       "</table>\n",
       "</div>"
      ],
      "text/plain": [
       "                 show  duration(colspan)     network    date  isrepeat  \\\n",
       "0           Rose Bowl                6.0         ABC  1/1/07         0   \n",
       "1  Rose Bowl Postgame                6.0         ABC  1/1/07         0   \n",
       "2          Supernanny               12.0         ABC  1/1/07         1   \n",
       "3          Supernanny               12.0         ABC  1/1/07         1   \n",
       "4            Wildfire               12.0  ABC Family  1/1/07         0   \n",
       "\n",
       "   rating  share  viewers  weekday    genre  weeknum  \n",
       "0    13.8   21.0      NaN        2   sports        1  \n",
       "1     6.7   10.0     10.3        2   sports        1  \n",
       "2     4.5    7.0      6.7        2  reality        1  \n",
       "3     4.5    7.0      7.0        2  reality        1  \n",
       "4     NaN    NaN      NaN        2    drama        1  "
      ]
     },
     "execution_count": 750,
     "metadata": {},
     "output_type": "execute_result"
    }
   ],
   "source": [
    "# Read the combined programming schedule data\n",
    "df = pd.read_csv(\"programmingdatascrape.csv\")\n",
    "df.head(5)"
   ]
  },
  {
   "cell_type": "code",
   "execution_count": 398,
   "metadata": {
    "collapsed": true
   },
   "outputs": [
    {
     "data": {
      "text/html": [
       "<div>\n",
       "<style scoped>\n",
       "    .dataframe tbody tr th:only-of-type {\n",
       "        vertical-align: middle;\n",
       "    }\n",
       "\n",
       "    .dataframe tbody tr th {\n",
       "        vertical-align: top;\n",
       "    }\n",
       "\n",
       "    .dataframe thead th {\n",
       "        text-align: right;\n",
       "    }\n",
       "</style>\n",
       "<table border=\"1\" class=\"dataframe\">\n",
       "  <thead>\n",
       "    <tr style=\"text-align: right;\">\n",
       "      <th></th>\n",
       "      <th>show</th>\n",
       "      <th>duration(colspan)</th>\n",
       "      <th>network</th>\n",
       "      <th>date</th>\n",
       "      <th>isrepeat</th>\n",
       "      <th>rating</th>\n",
       "      <th>share</th>\n",
       "      <th>viewers</th>\n",
       "      <th>weekday</th>\n",
       "      <th>genre</th>\n",
       "      <th>weeknum</th>\n",
       "    </tr>\n",
       "  </thead>\n",
       "  <tbody>\n",
       "    <tr>\n",
       "      <th>count</th>\n",
       "      <td>233073</td>\n",
       "      <td>221762.000000</td>\n",
       "      <td>233073</td>\n",
       "      <td>233073</td>\n",
       "      <td>233073.000000</td>\n",
       "      <td>51378.000000</td>\n",
       "      <td>51215.000000</td>\n",
       "      <td>65514.000000</td>\n",
       "      <td>233073.000000</td>\n",
       "      <td>233073</td>\n",
       "      <td>233073.000000</td>\n",
       "    </tr>\n",
       "    <tr>\n",
       "      <th>unique</th>\n",
       "      <td>9857</td>\n",
       "      <td>NaN</td>\n",
       "      <td>382</td>\n",
       "      <td>3653</td>\n",
       "      <td>NaN</td>\n",
       "      <td>NaN</td>\n",
       "      <td>NaN</td>\n",
       "      <td>NaN</td>\n",
       "      <td>NaN</td>\n",
       "      <td>26</td>\n",
       "      <td>NaN</td>\n",
       "    </tr>\n",
       "    <tr>\n",
       "      <th>top</th>\n",
       "      <td>Special</td>\n",
       "      <td>NaN</td>\n",
       "      <td>CBS</td>\n",
       "      <td>3/8/15</td>\n",
       "      <td>NaN</td>\n",
       "      <td>NaN</td>\n",
       "      <td>NaN</td>\n",
       "      <td>NaN</td>\n",
       "      <td>NaN</td>\n",
       "      <td>reality</td>\n",
       "      <td>NaN</td>\n",
       "    </tr>\n",
       "    <tr>\n",
       "      <th>freq</th>\n",
       "      <td>8036</td>\n",
       "      <td>NaN</td>\n",
       "      <td>12801</td>\n",
       "      <td>133</td>\n",
       "      <td>NaN</td>\n",
       "      <td>NaN</td>\n",
       "      <td>NaN</td>\n",
       "      <td>NaN</td>\n",
       "      <td>NaN</td>\n",
       "      <td>47634</td>\n",
       "      <td>NaN</td>\n",
       "    </tr>\n",
       "    <tr>\n",
       "      <th>mean</th>\n",
       "      <td>NaN</td>\n",
       "      <td>11.743323</td>\n",
       "      <td>NaN</td>\n",
       "      <td>NaN</td>\n",
       "      <td>0.130251</td>\n",
       "      <td>3.401323</td>\n",
       "      <td>5.700678</td>\n",
       "      <td>4.168983</td>\n",
       "      <td>3.801315</td>\n",
       "      <td>NaN</td>\n",
       "      <td>27.116427</td>\n",
       "    </tr>\n",
       "    <tr>\n",
       "      <th>std</th>\n",
       "      <td>NaN</td>\n",
       "      <td>6.241297</td>\n",
       "      <td>NaN</td>\n",
       "      <td>NaN</td>\n",
       "      <td>0.336580</td>\n",
       "      <td>2.817620</td>\n",
       "      <td>4.435847</td>\n",
       "      <td>4.342970</td>\n",
       "      <td>1.963506</td>\n",
       "      <td>NaN</td>\n",
       "      <td>15.020883</td>\n",
       "    </tr>\n",
       "    <tr>\n",
       "      <th>min</th>\n",
       "      <td>NaN</td>\n",
       "      <td>1.600000</td>\n",
       "      <td>NaN</td>\n",
       "      <td>NaN</td>\n",
       "      <td>0.000000</td>\n",
       "      <td>0.100000</td>\n",
       "      <td>0.700000</td>\n",
       "      <td>0.010000</td>\n",
       "      <td>1.000000</td>\n",
       "      <td>NaN</td>\n",
       "      <td>1.000000</td>\n",
       "    </tr>\n",
       "    <tr>\n",
       "      <th>25%</th>\n",
       "      <td>NaN</td>\n",
       "      <td>6.000000</td>\n",
       "      <td>NaN</td>\n",
       "      <td>NaN</td>\n",
       "      <td>0.000000</td>\n",
       "      <td>1.200000</td>\n",
       "      <td>2.000000</td>\n",
       "      <td>1.190000</td>\n",
       "      <td>2.000000</td>\n",
       "      <td>NaN</td>\n",
       "      <td>14.000000</td>\n",
       "    </tr>\n",
       "    <tr>\n",
       "      <th>50%</th>\n",
       "      <td>NaN</td>\n",
       "      <td>12.000000</td>\n",
       "      <td>NaN</td>\n",
       "      <td>NaN</td>\n",
       "      <td>0.000000</td>\n",
       "      <td>2.900000</td>\n",
       "      <td>5.000000</td>\n",
       "      <td>2.900000</td>\n",
       "      <td>4.000000</td>\n",
       "      <td>NaN</td>\n",
       "      <td>27.000000</td>\n",
       "    </tr>\n",
       "    <tr>\n",
       "      <th>75%</th>\n",
       "      <td>NaN</td>\n",
       "      <td>12.000000</td>\n",
       "      <td>NaN</td>\n",
       "      <td>NaN</td>\n",
       "      <td>0.000000</td>\n",
       "      <td>4.600000</td>\n",
       "      <td>8.000000</td>\n",
       "      <td>5.800000</td>\n",
       "      <td>5.000000</td>\n",
       "      <td>NaN</td>\n",
       "      <td>40.000000</td>\n",
       "    </tr>\n",
       "    <tr>\n",
       "      <th>max</th>\n",
       "      <td>NaN</td>\n",
       "      <td>48.000000</td>\n",
       "      <td>NaN</td>\n",
       "      <td>NaN</td>\n",
       "      <td>1.000000</td>\n",
       "      <td>120.000000</td>\n",
       "      <td>72.000000</td>\n",
       "      <td>114.400000</td>\n",
       "      <td>7.000000</td>\n",
       "      <td>NaN</td>\n",
       "      <td>53.000000</td>\n",
       "    </tr>\n",
       "  </tbody>\n",
       "</table>\n",
       "</div>"
      ],
      "text/plain": [
       "           show  duration(colspan) network    date       isrepeat  \\\n",
       "count    233073      221762.000000  233073  233073  233073.000000   \n",
       "unique     9857                NaN     382    3653            NaN   \n",
       "top     Special                NaN     CBS  3/8/15            NaN   \n",
       "freq       8036                NaN   12801     133            NaN   \n",
       "mean        NaN          11.743323     NaN     NaN       0.130251   \n",
       "std         NaN           6.241297     NaN     NaN       0.336580   \n",
       "min         NaN           1.600000     NaN     NaN       0.000000   \n",
       "25%         NaN           6.000000     NaN     NaN       0.000000   \n",
       "50%         NaN          12.000000     NaN     NaN       0.000000   \n",
       "75%         NaN          12.000000     NaN     NaN       0.000000   \n",
       "max         NaN          48.000000     NaN     NaN       1.000000   \n",
       "\n",
       "              rating         share       viewers        weekday    genre  \\\n",
       "count   51378.000000  51215.000000  65514.000000  233073.000000   233073   \n",
       "unique           NaN           NaN           NaN            NaN       26   \n",
       "top              NaN           NaN           NaN            NaN  reality   \n",
       "freq             NaN           NaN           NaN            NaN    47634   \n",
       "mean        3.401323      5.700678      4.168983       3.801315      NaN   \n",
       "std         2.817620      4.435847      4.342970       1.963506      NaN   \n",
       "min         0.100000      0.700000      0.010000       1.000000      NaN   \n",
       "25%         1.200000      2.000000      1.190000       2.000000      NaN   \n",
       "50%         2.900000      5.000000      2.900000       4.000000      NaN   \n",
       "75%         4.600000      8.000000      5.800000       5.000000      NaN   \n",
       "max       120.000000     72.000000    114.400000       7.000000      NaN   \n",
       "\n",
       "              weeknum  \n",
       "count   233073.000000  \n",
       "unique            NaN  \n",
       "top               NaN  \n",
       "freq              NaN  \n",
       "mean        27.116427  \n",
       "std         15.020883  \n",
       "min          1.000000  \n",
       "25%         14.000000  \n",
       "50%         27.000000  \n",
       "75%         40.000000  \n",
       "max         53.000000  "
      ]
     },
     "execution_count": 398,
     "metadata": {},
     "output_type": "execute_result"
    }
   ],
   "source": [
    "df.describe(include='all')"
   ]
  },
  {
   "cell_type": "code",
   "execution_count": 399,
   "metadata": {
    "collapsed": true
   },
   "outputs": [
    {
     "data": {
      "text/plain": [
       "show                  object\n",
       "duration(colspan)    float64\n",
       "network               object\n",
       "date                  object\n",
       "isrepeat               int64\n",
       "rating               float64\n",
       "share                float64\n",
       "viewers              float64\n",
       "weekday                int64\n",
       "genre                 object\n",
       "weeknum                int64\n",
       "dtype: object"
      ]
     },
     "execution_count": 399,
     "metadata": {},
     "output_type": "execute_result"
    }
   ],
   "source": [
    "# Check Data Types\n",
    "df.dtypes"
   ]
  },
  {
   "cell_type": "code",
   "execution_count": 400,
   "metadata": {},
   "outputs": [],
   "source": [
    "# look at unique network and genre listings for any mistakes\n",
    "# np.sort(df.network.unique())\n",
    "# np.sort(df.genre.unique())"
   ]
  },
  {
   "cell_type": "code",
   "execution_count": 401,
   "metadata": {},
   "outputs": [],
   "source": [
    "# fix genre mistakes like typos in the categorization\n",
    "df['genre'] = df['genre'].str.lower()\n",
    "df['genre'] = df['genre'].replace(['comey'],'comedy')\n",
    "df['genre'] = df['genre'].replace(['do', 'dou', 'docu'],'documentary')\n",
    "df['genre'] = df['genre'].replace(['drma'],'drama')\n",
    "df['genre'] = df['genre'].replace(['realcomp', 'comop', 'comp'],'competition')\n",
    "df['genre'] = df['genre'].replace(['ea','era','ra'],'reality')\n",
    "df['genre'] = df['genre'].replace(['takl'],'talk')"
   ]
  },
  {
   "cell_type": "code",
   "execution_count": 402,
   "metadata": {},
   "outputs": [],
   "source": [
    "# consistent network values\n",
    "\n",
    "## make all lowercase\n",
    "df['network'] = df['network'].str.lower()\n",
    "\n",
    "## name changes (see paper and notes for reasons, also spelling and spaces\n",
    "df['network'] = df['network'].replace(['at&t/directv'],'directv')\n",
    "df['network'] = df['network'].replace(['axs'],'axs tv')\n",
    "df['network'] = df['network'].replace(['cooking'],'cooking channel')\n",
    "df['network'] = df['network'].replace(['c-span'],'cspan')\n",
    "df['network'] = df['network'].replace(['disney jr.'],'disney jr')\n",
    "df['network'] = df['network'].replace(['family'],'abc family')\n",
    "df['network'] = df['network'].replace(['fox soccer'],'fox soccer plus')\n",
    "df['network'] = df['network'].replace(['fox sports net'],'fox sports 1')\n",
    "df['network'] = df['network'].replace(['fuse'],'directv')\n",
    "df['network'] = df['network'].replace(['golf'],'golf channel')\n",
    "df['network'] = df['network'].replace(['gospel music'],'gmc')\n",
    "df['network'] = df['network'].replace(['hallmark movie ch'],'hallmark movie channel')\n",
    "df['network'] = df['network'].replace(['i'],'ion')\n",
    "df['network'] = df['network'].replace(['mav tv'],'mavtv')\n",
    "df['network'] = df['network'].replace(['military history'],'military')\n",
    "df['network'] = df['network'].replace(['msg plus'],'msg')\n",
    "df['network'] = df['network'].replace(['nbcs', 'nbc sports', 'nbcsnn', 'nbsn'],'nbcsn')\n",
    "df['network'] = df['network'].replace(['nick toons', 'nick toon'],'nicktoons')\n",
    "df['network'] = df['network'].replace(['nick jr.'],'nick jr')\n",
    "df['network'] = df['network'].replace(['si tv'],'nuvotv')\n",
    "df['network'] = df['network'].replace(['outdoor'],'outdoor channel')\n",
    "df['network'] = df['network'].replace(['pac12'],'pac 12')\n",
    "df['network'] = df['network'].replace(['peachtree tv'],'peachtree')\n",
    "df['network'] = df['network'].replace(['reelzchannel'],'reelz channel')\n",
    "df['network'] = df['network'].replace(['rltv', 'retirement living'],'retirement living tv')\n",
    "df['network'] = df['network'].replace(['showtime2'],'showtime 2')\n",
    "df['network'] = df['network'].replace(['tenni'],'tennis')\n",
    "df['network'] = df['network'].replace(['travel + escape'],'travel+escape')\n",
    "df['network'] = df['network'].replace(['treasure hd'],'treasure')\n",
    "df['network'] = df['network'].replace(['tvgn'],'planet green')\n",
    "df['network'] = df['network'].replace(['universal'],'universal hd')\n",
    "df['network'] = df['network'].replace(['w'],'we')\n",
    "df['network'] = df['network'].replace(['wgn'],'wgn america')\n",
    "df['network'] = df['network'].replace(['z living'],'veria')"
   ]
  },
  {
   "cell_type": "code",
   "execution_count": 403,
   "metadata": {},
   "outputs": [],
   "source": [
    "# remove foreign channels\n",
    "df = df[~df['network'].isin(['nat geo uk','bbc1','bbc2','bbc3','bbc4','virgin1','sbs','ch4','ch5','animal planet uk','c&i - uk','current uk','e! uk','e4','home - uk','itv1','itv2','discovery canada','discovery channel canada','discovery hd','hgtv canada','mtv canada','hbo canada','slice','teletoon','cbc','cmt canada','cottage life','e! canada','equator hd','food network canada','global','history canada','history - canada','history int','history television canada','stv1','showcase','travel+escape','treasure hd','abc1','abc - aus','canal+','citytv','fox8','c&i - nz','inhd','discovery real time','discovery science','discovery theater','discovery times','discovery world','discovery world hd','discover/military','tlc - netherlands','vuzu','mnet','crime & investigation - new zealand','crime & investigation - uk','current - uk','investigation discovery - canada','nat geo - uk','nat geo - australia','nat geo wild - uk'])]\n",
    "\n",
    "# remove adult channels\n",
    "df = df[-df['network'].isin(['playboy'])]\n",
    "df = df[df['genre'] != 'adult']\n",
    "\n",
    "# remove spanish language channels\n",
    "df = df[-df['network'].isin(['telemundo','univision','unimas'])]\n",
    "\n",
    "# remove streaming networks\n",
    "df = df[-df['network'].isin(['amazon','aol','crackle','hulu','playstation network','seeso','yahoo! screen','directv','netflix','mojo'])]\n"
   ]
  },
  {
   "cell_type": "code",
   "execution_count": 404,
   "metadata": {},
   "outputs": [],
   "source": [
    "# see how many occurences per network\n",
    "network_occurence = df['network'].value_counts().to_frame()\n",
    "network_occurence.columns=['network_occurence']\n",
    "\n",
    "# network_occurence            #prints a table showing highest and lowest values\n",
    "\n",
    "# creates the netocc variable for the count of occurences per network\n",
    "df['netocc'] = df['network'].map(df['network'].value_counts())\n",
    "\n",
    "# drops any observation from a network with fewer than 100 observations total - then drops netocc variable\n",
    "df = df[df.netocc>100]\n",
    "\n",
    "df = df.drop(columns=['netocc'])"
   ]
  },
  {
   "cell_type": "code",
   "execution_count": 405,
   "metadata": {},
   "outputs": [],
   "source": [
    "# rename duration variable\n",
    "df.rename(columns={'duration(colspan)':'duration'}, inplace=True)\n",
    "\n",
    "# observations without a duration are out of primetime (or streaming) - drop them\n",
    "df.dropna(subset=['duration'], inplace=True)\n",
    "\n",
    "# modify duration to be in hours then drop duration\n",
    "df['hours'] = df['duration']/12\n",
    "df = df.drop(columns = ['duration'])\n",
    "\n",
    "# create hour count for repeats\n",
    "df['rpthours'] = df['isrepeat']*df['hours']"
   ]
  },
  {
   "cell_type": "code",
   "execution_count": 406,
   "metadata": {},
   "outputs": [],
   "source": [
    "#Dealing with Date Variables\n",
    "## Convert the date to a datetime object\n",
    "df['date'] = pd.to_datetime(df['date'], format='%m/%d/%y')"
   ]
  },
  {
   "cell_type": "code",
   "execution_count": 407,
   "metadata": {},
   "outputs": [],
   "source": [
    "# Create tv season dummies\n",
    "## These are blunt\n",
    "## Spring: January - May\n",
    "## Summer: June - August\n",
    "## Winter: September - December\n",
    "df['month'] = df['date'].dt.month\n",
    "\n",
    "seasonconditions = [\n",
    "    (df['month'] <= 5),\n",
    "    (df['month'] > 5) & (df['month'] <9),\n",
    "    (df['month'] >= 9)\n",
    "]\n",
    "\n",
    "seasonvalues = ['spring','summer','fall']\n",
    "\n",
    "df['season'] = np.select(seasonconditions, seasonvalues)\n",
    "\n",
    "# drop month\n",
    "df = df.drop(columns = ['month'])"
   ]
  },
  {
   "cell_type": "code",
   "execution_count": 408,
   "metadata": {},
   "outputs": [],
   "source": [
    "# Create the necessary time variables for merging and summary stats\n",
    "df['year'] = df['date'].dt.year"
   ]
  },
  {
   "cell_type": "code",
   "execution_count": 409,
   "metadata": {},
   "outputs": [],
   "source": [
    "# Write csv for per show programming schedule data\n",
    "df.to_csv(\"programmingcleaned.csv\", index=False)\n",
    "#df.head(10)"
   ]
  },
  {
   "cell_type": "markdown",
   "metadata": {},
   "source": [
    "### Summary Statistics for Show Data"
   ]
  },
  {
   "cell_type": "code",
   "execution_count": 80,
   "metadata": {
    "scrolled": false
   },
   "outputs": [
    {
     "data": {
      "image/png": "[encoded data removed]",
      "text/plain": [
       "<Figure size 1280x720 with 1 Axes>"
      ]
     },
     "metadata": {
      "needs_background": "light"
     },
     "output_type": "display_data"
    }
   ],
   "source": [
    "# Use cleaned programming schedule data\n",
    "df = pd.read_csv(\"programmingcleaned.csv\")\n",
    "df['date'] = pd.to_datetime(df['date'], format='%Y-%m-%d')\n",
    "\n",
    "## Histogram by number of unique shows per season over time\n",
    "# grouping by year and season\n",
    "\n",
    "df = df[df.isrepeat == 0]\n",
    "df = df.drop_duplicates(['year','show'])\n",
    "\n",
    "\n",
    "x_var = 'year'\n",
    "groupby_var = 'genre'\n",
    "df_agg = df.loc[:, [x_var, groupby_var]].groupby(groupby_var)\n",
    "vals = [df[x_var].values.tolist() for i, df in df_agg]\n",
    "\n",
    "plt.figure(figsize=(16,9), dpi= 80)\n",
    "colors = [plt.cm.Spectral(i/float(len(vals)-1)) for i in range(len(vals))]\n",
    "n, bins, patches = plt.hist(vals, 30, stacked=True, density=False, color=colors[:len(vals)])\n",
    "\n",
    "plt.legend({group:col for group, col in zip(np.unique(df[groupby_var]).tolist(), colors[:len(vals)])})\n",
    "plt.title(f\"Stacked Histogram of ${x_var}$ colored by ${groupby_var}$\", fontsize=22)\n",
    "plt.xlabel(x_var)\n",
    "plt.ylabel(\"Frequency\")\n",
    "plt.ylim(0, )\n",
    "#plt.xticks(ticks=bins[::3], labels=[round(b,1) for b in bins[::3]])\n",
    "plt.show()"
   ]
  },
  {
   "cell_type": "markdown",
   "metadata": {},
   "source": [
    "### Aggregating To Week\n",
    "\n",
    "Programming schedules typically repeat every week and viewers can tune into their favorite shows by watching on a certain day at a certain time. Since schedules are programmed at this level I aggregate the hours of each genre of show to the week to compare across network."
   ]
  },
  {
   "cell_type": "code",
   "execution_count": 3,
   "metadata": {},
   "outputs": [],
   "source": [
    "# Use cleaned programming schedule data\n",
    "df = pd.read_csv(\"programmingcleaned.csv\")\n",
    "df['date'] = pd.to_datetime(df['date'], format='%Y-%m-%d')\n",
    "\n",
    "# Create wkyear variable to collapse on\n",
    "df['wkyear'] = df['date'].dt.strftime('%U-%Y')\n",
    "\n",
    "dfweek = df.groupby(['network','genre','wkyear'], as_index=False).agg({'hours':sum})\n",
    "\n",
    "# Pivot table so each obs. is network/wkyear with aggregate amounts as variables\n",
    "df_wide = dfweek.pivot_table(\n",
    "    index=['network','wkyear'],\n",
    "    columns='genre',\n",
    "    values=['hours'],\n",
    "    fill_value=0\n",
    "    ).reset_index()\n",
    "# renames columns as combination of previous categories\n",
    "df_wide.columns = list(map(\"\".join, df_wide.columns))\n",
    "\n",
    "# adds back week and year variables\n",
    "dfyear = pd.DataFrame()    # creates a new dataframe for time elements\n",
    "dfyear[['week','year']] = df_wide['wkyear'].str.split(pat = '-', expand=True)\n",
    "df_wide = pd.concat([df_wide,dfyear], axis=1)\n",
    "df_wide['year'] = pd.to_numeric(df_wide['year'])"
   ]
  },
  {
   "cell_type": "code",
   "execution_count": 4,
   "metadata": {},
   "outputs": [
    {
     "data": {
      "text/html": [
       "<div>\n",
       "<style scoped>\n",
       "    .dataframe tbody tr th:only-of-type {\n",
       "        vertical-align: middle;\n",
       "    }\n",
       "\n",
       "    .dataframe tbody tr th {\n",
       "        vertical-align: top;\n",
       "    }\n",
       "\n",
       "    .dataframe thead th {\n",
       "        text-align: right;\n",
       "    }\n",
       "</style>\n",
       "<table border=\"1\" class=\"dataframe\">\n",
       "  <thead>\n",
       "    <tr style=\"text-align: right;\">\n",
       "      <th></th>\n",
       "      <th>network</th>\n",
       "      <th>wkyear</th>\n",
       "      <th>hourscomedy</th>\n",
       "      <th>hourscompetition</th>\n",
       "      <th>hoursdocumentary</th>\n",
       "      <th>hoursdrama</th>\n",
       "      <th>hoursevent</th>\n",
       "      <th>hourshome</th>\n",
       "      <th>hourskids</th>\n",
       "      <th>hoursmovie</th>\n",
       "      <th>hoursmusic</th>\n",
       "      <th>hoursnews</th>\n",
       "      <th>hoursreality</th>\n",
       "      <th>hourssports</th>\n",
       "      <th>hourstalk</th>\n",
       "      <th>week</th>\n",
       "      <th>year</th>\n",
       "    </tr>\n",
       "  </thead>\n",
       "  <tbody>\n",
       "    <tr>\n",
       "      <th>0</th>\n",
       "      <td>a&amp;e</td>\n",
       "      <td>00-2009</td>\n",
       "      <td>0.0</td>\n",
       "      <td>0.0</td>\n",
       "      <td>1.0</td>\n",
       "      <td>0.0</td>\n",
       "      <td>0.0</td>\n",
       "      <td>0.0</td>\n",
       "      <td>0.0</td>\n",
       "      <td>0.0</td>\n",
       "      <td>0.0</td>\n",
       "      <td>0.0</td>\n",
       "      <td>0.0</td>\n",
       "      <td>0.0</td>\n",
       "      <td>0.0</td>\n",
       "      <td>00</td>\n",
       "      <td>2009</td>\n",
       "    </tr>\n",
       "    <tr>\n",
       "      <th>1</th>\n",
       "      <td>a&amp;e</td>\n",
       "      <td>00-2013</td>\n",
       "      <td>0.0</td>\n",
       "      <td>0.0</td>\n",
       "      <td>0.0</td>\n",
       "      <td>0.0</td>\n",
       "      <td>0.0</td>\n",
       "      <td>0.0</td>\n",
       "      <td>0.0</td>\n",
       "      <td>0.0</td>\n",
       "      <td>0.0</td>\n",
       "      <td>0.0</td>\n",
       "      <td>4.0</td>\n",
       "      <td>0.0</td>\n",
       "      <td>0.0</td>\n",
       "      <td>00</td>\n",
       "      <td>2013</td>\n",
       "    </tr>\n",
       "    <tr>\n",
       "      <th>2</th>\n",
       "      <td>a&amp;e</td>\n",
       "      <td>00-2014</td>\n",
       "      <td>0.0</td>\n",
       "      <td>0.0</td>\n",
       "      <td>1.0</td>\n",
       "      <td>0.0</td>\n",
       "      <td>0.0</td>\n",
       "      <td>0.0</td>\n",
       "      <td>0.0</td>\n",
       "      <td>0.0</td>\n",
       "      <td>0.0</td>\n",
       "      <td>0.0</td>\n",
       "      <td>1.0</td>\n",
       "      <td>0.0</td>\n",
       "      <td>0.0</td>\n",
       "      <td>00</td>\n",
       "      <td>2014</td>\n",
       "    </tr>\n",
       "    <tr>\n",
       "      <th>3</th>\n",
       "      <td>a&amp;e</td>\n",
       "      <td>00-2015</td>\n",
       "      <td>0.0</td>\n",
       "      <td>0.0</td>\n",
       "      <td>1.0</td>\n",
       "      <td>0.0</td>\n",
       "      <td>0.0</td>\n",
       "      <td>0.0</td>\n",
       "      <td>0.0</td>\n",
       "      <td>0.0</td>\n",
       "      <td>0.0</td>\n",
       "      <td>0.0</td>\n",
       "      <td>0.0</td>\n",
       "      <td>0.0</td>\n",
       "      <td>0.0</td>\n",
       "      <td>00</td>\n",
       "      <td>2015</td>\n",
       "    </tr>\n",
       "    <tr>\n",
       "      <th>4</th>\n",
       "      <td>a&amp;e</td>\n",
       "      <td>00-2016</td>\n",
       "      <td>0.0</td>\n",
       "      <td>0.0</td>\n",
       "      <td>2.0</td>\n",
       "      <td>1.0</td>\n",
       "      <td>0.0</td>\n",
       "      <td>0.0</td>\n",
       "      <td>0.0</td>\n",
       "      <td>0.0</td>\n",
       "      <td>0.0</td>\n",
       "      <td>0.0</td>\n",
       "      <td>0.0</td>\n",
       "      <td>0.0</td>\n",
       "      <td>0.0</td>\n",
       "      <td>00</td>\n",
       "      <td>2016</td>\n",
       "    </tr>\n",
       "  </tbody>\n",
       "</table>\n",
       "</div>"
      ],
      "text/plain": [
       "  network   wkyear  hourscomedy  hourscompetition  hoursdocumentary  \\\n",
       "0     a&e  00-2009          0.0               0.0               1.0   \n",
       "1     a&e  00-2013          0.0               0.0               0.0   \n",
       "2     a&e  00-2014          0.0               0.0               1.0   \n",
       "3     a&e  00-2015          0.0               0.0               1.0   \n",
       "4     a&e  00-2016          0.0               0.0               2.0   \n",
       "\n",
       "   hoursdrama  hoursevent  hourshome  hourskids  hoursmovie  hoursmusic  \\\n",
       "0         0.0         0.0        0.0        0.0         0.0         0.0   \n",
       "1         0.0         0.0        0.0        0.0         0.0         0.0   \n",
       "2         0.0         0.0        0.0        0.0         0.0         0.0   \n",
       "3         0.0         0.0        0.0        0.0         0.0         0.0   \n",
       "4         1.0         0.0        0.0        0.0         0.0         0.0   \n",
       "\n",
       "   hoursnews  hoursreality  hourssports  hourstalk week  year  \n",
       "0        0.0           0.0          0.0        0.0   00  2009  \n",
       "1        0.0           4.0          0.0        0.0   00  2013  \n",
       "2        0.0           1.0          0.0        0.0   00  2014  \n",
       "3        0.0           0.0          0.0        0.0   00  2015  \n",
       "4        0.0           0.0          0.0        0.0   00  2016  "
      ]
     },
     "execution_count": 4,
     "metadata": {},
     "output_type": "execute_result"
    }
   ],
   "source": [
    "df_wide.head()"
   ]
  },
  {
   "cell_type": "code",
   "execution_count": 5,
   "metadata": {},
   "outputs": [],
   "source": [
    "# Sum total hours per network per week\n",
    "df_wide['tothours'] = df_wide['hourscomedy']+df_wide['hourscompetition']+df_wide['hoursdocumentary']+df_wide['hoursdrama']+df_wide['hoursevent']+df_wide['hourshome']+df_wide['hourskids']+df_wide['hoursmovie']+df_wide['hoursmusic']+df_wide['hoursnews']+df_wide['hoursreality']+df_wide['hourssports']+df_wide['hourstalk']\n",
    "\n",
    "# drop if total hours are less than 15 minutes in a week\n",
    "df_wide = df_wide[(df_wide['tothours']>0.01)]\n",
    "\n",
    "#df_wide = df_wide.drop(columns = 'tothours')"
   ]
  },
  {
   "cell_type": "code",
   "execution_count": 6,
   "metadata": {},
   "outputs": [],
   "source": [
    "# creates hours per genre as a proportion of 22 hr prime-time week, then makes a vector\n",
    "hourslist = ['hourscomedy','hourscompetition','hoursdocumentary','hoursdrama','hoursevent','hourshome','hourskids','hoursmovie','hoursmusic','hoursnews','hoursreality','hourssports','hourstalk']\n",
    "genrehours = df_wide[hourslist]\n",
    "\n",
    "for column in genrehours:       # makes the proportions of genrehours/22\n",
    "    df_wide[column] = df_wide[column]/22\n",
    "\n",
    "#df_wide['genrevector'] = df_wide[hourslist].values.tolist() # creates a vector of genre proportions\n",
    "\n",
    "#df_wide = df_wide.drop(columns = genrehours)    # drops genrehours variables"
   ]
  },
  {
   "cell_type": "code",
   "execution_count": 597,
   "metadata": {},
   "outputs": [],
   "source": [
    "df_wide.to_csv(\"network_wkyear.csv\", index=False)"
   ]
  },
  {
   "cell_type": "markdown",
   "metadata": {},
   "source": [
    "## Ownership Data <a name=\"ownership\"></a>\n",
    "\n",
    "This data was collected from a combination of sources including network websites, FCC documents, press releases, and news articles. This is a document of dummy variables = 1 when a network is owned by a parent company, and 0 otherwise. This is combined onto the weekly data."
   ]
  },
  {
   "cell_type": "code",
   "execution_count": 7,
   "metadata": {},
   "outputs": [
    {
     "data": {
      "text/html": [
       "<div>\n",
       "<style scoped>\n",
       "    .dataframe tbody tr th:only-of-type {\n",
       "        vertical-align: middle;\n",
       "    }\n",
       "\n",
       "    .dataframe tbody tr th {\n",
       "        vertical-align: top;\n",
       "    }\n",
       "\n",
       "    .dataframe thead th {\n",
       "        text-align: right;\n",
       "    }\n",
       "</style>\n",
       "<table border=\"1\" class=\"dataframe\">\n",
       "  <thead>\n",
       "    <tr style=\"text-align: right;\">\n",
       "      <th></th>\n",
       "      <th>network</th>\n",
       "      <th>year</th>\n",
       "      <th>coverage</th>\n",
       "      <th>2929 Entertainment</th>\n",
       "      <th>ABSCBN</th>\n",
       "      <th>Al Jazeera Media Network</th>\n",
       "      <th>Amazon</th>\n",
       "      <th>AMCnetworks</th>\n",
       "      <th>AEG</th>\n",
       "      <th>BBC</th>\n",
       "      <th>...</th>\n",
       "      <th>Smithsonian</th>\n",
       "      <th>Starz Inc</th>\n",
       "      <th>Tennis Inc</th>\n",
       "      <th>TimeWarner</th>\n",
       "      <th>Tribune</th>\n",
       "      <th>Univision</th>\n",
       "      <th>Verizon</th>\n",
       "      <th>Viacom</th>\n",
       "      <th>Vice Media</th>\n",
       "      <th>Yahoo</th>\n",
       "    </tr>\n",
       "  </thead>\n",
       "  <tbody>\n",
       "    <tr>\n",
       "      <th>0</th>\n",
       "      <td>3net</td>\n",
       "      <td>2011</td>\n",
       "      <td>NaN</td>\n",
       "      <td>0</td>\n",
       "      <td>0</td>\n",
       "      <td>0</td>\n",
       "      <td>0</td>\n",
       "      <td>0</td>\n",
       "      <td>0</td>\n",
       "      <td>0</td>\n",
       "      <td>...</td>\n",
       "      <td>0</td>\n",
       "      <td>0</td>\n",
       "      <td>0</td>\n",
       "      <td>0</td>\n",
       "      <td>0</td>\n",
       "      <td>0</td>\n",
       "      <td>0</td>\n",
       "      <td>0</td>\n",
       "      <td>0</td>\n",
       "      <td>0</td>\n",
       "    </tr>\n",
       "    <tr>\n",
       "      <th>1</th>\n",
       "      <td>3net</td>\n",
       "      <td>2012</td>\n",
       "      <td>NaN</td>\n",
       "      <td>0</td>\n",
       "      <td>0</td>\n",
       "      <td>0</td>\n",
       "      <td>0</td>\n",
       "      <td>0</td>\n",
       "      <td>0</td>\n",
       "      <td>0</td>\n",
       "      <td>...</td>\n",
       "      <td>0</td>\n",
       "      <td>0</td>\n",
       "      <td>0</td>\n",
       "      <td>0</td>\n",
       "      <td>0</td>\n",
       "      <td>0</td>\n",
       "      <td>0</td>\n",
       "      <td>0</td>\n",
       "      <td>0</td>\n",
       "      <td>0</td>\n",
       "    </tr>\n",
       "    <tr>\n",
       "      <th>2</th>\n",
       "      <td>3net</td>\n",
       "      <td>2013</td>\n",
       "      <td>NaN</td>\n",
       "      <td>0</td>\n",
       "      <td>0</td>\n",
       "      <td>0</td>\n",
       "      <td>0</td>\n",
       "      <td>0</td>\n",
       "      <td>0</td>\n",
       "      <td>0</td>\n",
       "      <td>...</td>\n",
       "      <td>0</td>\n",
       "      <td>0</td>\n",
       "      <td>0</td>\n",
       "      <td>0</td>\n",
       "      <td>0</td>\n",
       "      <td>0</td>\n",
       "      <td>0</td>\n",
       "      <td>0</td>\n",
       "      <td>0</td>\n",
       "      <td>0</td>\n",
       "    </tr>\n",
       "    <tr>\n",
       "      <th>3</th>\n",
       "      <td>3net</td>\n",
       "      <td>2014</td>\n",
       "      <td>NaN</td>\n",
       "      <td>0</td>\n",
       "      <td>0</td>\n",
       "      <td>0</td>\n",
       "      <td>0</td>\n",
       "      <td>0</td>\n",
       "      <td>0</td>\n",
       "      <td>0</td>\n",
       "      <td>...</td>\n",
       "      <td>0</td>\n",
       "      <td>0</td>\n",
       "      <td>0</td>\n",
       "      <td>0</td>\n",
       "      <td>0</td>\n",
       "      <td>0</td>\n",
       "      <td>0</td>\n",
       "      <td>0</td>\n",
       "      <td>0</td>\n",
       "      <td>0</td>\n",
       "    </tr>\n",
       "    <tr>\n",
       "      <th>4</th>\n",
       "      <td>A&amp;E</td>\n",
       "      <td>2007</td>\n",
       "      <td>NaN</td>\n",
       "      <td>0</td>\n",
       "      <td>0</td>\n",
       "      <td>0</td>\n",
       "      <td>0</td>\n",
       "      <td>0</td>\n",
       "      <td>0</td>\n",
       "      <td>0</td>\n",
       "      <td>...</td>\n",
       "      <td>0</td>\n",
       "      <td>0</td>\n",
       "      <td>0</td>\n",
       "      <td>0</td>\n",
       "      <td>0</td>\n",
       "      <td>0</td>\n",
       "      <td>0</td>\n",
       "      <td>0</td>\n",
       "      <td>0</td>\n",
       "      <td>0</td>\n",
       "    </tr>\n",
       "  </tbody>\n",
       "</table>\n",
       "<p>5 rows × 79 columns</p>\n",
       "</div>"
      ],
      "text/plain": [
       "  network  year coverage  2929 Entertainment  ABSCBN  \\\n",
       "0    3net  2011      NaN                   0       0   \n",
       "1    3net  2012      NaN                   0       0   \n",
       "2    3net  2013      NaN                   0       0   \n",
       "3    3net  2014      NaN                   0       0   \n",
       "4     A&E  2007      NaN                   0       0   \n",
       "\n",
       "   Al Jazeera Media Network  Amazon  AMCnetworks  AEG  BBC  ...  Smithsonian  \\\n",
       "0                         0       0            0    0    0  ...            0   \n",
       "1                         0       0            0    0    0  ...            0   \n",
       "2                         0       0            0    0    0  ...            0   \n",
       "3                         0       0            0    0    0  ...            0   \n",
       "4                         0       0            0    0    0  ...            0   \n",
       "\n",
       "   Starz Inc  Tennis Inc  TimeWarner  Tribune  Univision  Verizon  Viacom  \\\n",
       "0          0           0           0        0          0        0       0   \n",
       "1          0           0           0        0          0        0       0   \n",
       "2          0           0           0        0          0        0       0   \n",
       "3          0           0           0        0          0        0       0   \n",
       "4          0           0           0        0          0        0       0   \n",
       "\n",
       "   Vice Media  Yahoo  \n",
       "0           0      0  \n",
       "1           0      0  \n",
       "2           0      0  \n",
       "3           0      0  \n",
       "4           0      0  \n",
       "\n",
       "[5 rows x 79 columns]"
      ]
     },
     "execution_count": 7,
     "metadata": {},
     "output_type": "execute_result"
    }
   ],
   "source": [
    "# Read the combined programming schedule data\n",
    "dfno = pd.read_csv(\"networkownership.csv\")\n",
    "\n",
    "dfno.head()"
   ]
  },
  {
   "cell_type": "code",
   "execution_count": 8,
   "metadata": {},
   "outputs": [],
   "source": [
    "# Fix types network, coverage variables\n",
    "dfno.network = dfno.network.astype(str).str.lower()\n",
    "\n",
    "#dfno['coverage'] = dfno['coverage'].astype('Float64')            #destrings the coverage variable"
   ]
  },
  {
   "cell_type": "code",
   "execution_count": 9,
   "metadata": {
    "scrolled": true
   },
   "outputs": [],
   "source": [
    "prediff = pd.merge(df_wide, dfno, how=\"left\", on=['network','year'])"
   ]
  },
  {
   "cell_type": "code",
   "execution_count": 10,
   "metadata": {
    "scrolled": true
   },
   "outputs": [],
   "source": [
    "prediff.to_csv(\"prediff.csv\", index=False)"
   ]
  },
  {
   "cell_type": "code",
   "execution_count": 16,
   "metadata": {},
   "outputs": [
    {
     "data": {
      "text/html": [
       "<div>\n",
       "<style scoped>\n",
       "    .dataframe tbody tr th:only-of-type {\n",
       "        vertical-align: middle;\n",
       "    }\n",
       "\n",
       "    .dataframe tbody tr th {\n",
       "        vertical-align: top;\n",
       "    }\n",
       "\n",
       "    .dataframe thead th {\n",
       "        text-align: right;\n",
       "    }\n",
       "</style>\n",
       "<table border=\"1\" class=\"dataframe\">\n",
       "  <thead>\n",
       "    <tr style=\"text-align: right;\">\n",
       "      <th></th>\n",
       "      <th>network</th>\n",
       "      <th>wkyear</th>\n",
       "      <th>hourscomedy</th>\n",
       "      <th>hourscompetition</th>\n",
       "      <th>hoursdocumentary</th>\n",
       "      <th>hoursdrama</th>\n",
       "      <th>hoursevent</th>\n",
       "      <th>hourshome</th>\n",
       "      <th>hourskids</th>\n",
       "      <th>hoursmovie</th>\n",
       "      <th>...</th>\n",
       "      <th>Starz Inc</th>\n",
       "      <th>Tennis Inc</th>\n",
       "      <th>TimeWarner</th>\n",
       "      <th>Tribune</th>\n",
       "      <th>Univision</th>\n",
       "      <th>Verizon</th>\n",
       "      <th>Viacom</th>\n",
       "      <th>Vice Media</th>\n",
       "      <th>Yahoo</th>\n",
       "      <th>owner</th>\n",
       "    </tr>\n",
       "  </thead>\n",
       "  <tbody>\n",
       "    <tr>\n",
       "      <th>0</th>\n",
       "      <td>a&amp;e</td>\n",
       "      <td>00-2009</td>\n",
       "      <td>0.0</td>\n",
       "      <td>0.0</td>\n",
       "      <td>0.045455</td>\n",
       "      <td>0.000000</td>\n",
       "      <td>0.0</td>\n",
       "      <td>0.0</td>\n",
       "      <td>0.0</td>\n",
       "      <td>0.0</td>\n",
       "      <td>...</td>\n",
       "      <td>0</td>\n",
       "      <td>0</td>\n",
       "      <td>0</td>\n",
       "      <td>0</td>\n",
       "      <td>0</td>\n",
       "      <td>0</td>\n",
       "      <td>0</td>\n",
       "      <td>0</td>\n",
       "      <td>0</td>\n",
       "      <td>Disney</td>\n",
       "    </tr>\n",
       "    <tr>\n",
       "      <th>1</th>\n",
       "      <td>a&amp;e</td>\n",
       "      <td>00-2013</td>\n",
       "      <td>0.0</td>\n",
       "      <td>0.0</td>\n",
       "      <td>0.000000</td>\n",
       "      <td>0.000000</td>\n",
       "      <td>0.0</td>\n",
       "      <td>0.0</td>\n",
       "      <td>0.0</td>\n",
       "      <td>0.0</td>\n",
       "      <td>...</td>\n",
       "      <td>0</td>\n",
       "      <td>0</td>\n",
       "      <td>0</td>\n",
       "      <td>0</td>\n",
       "      <td>0</td>\n",
       "      <td>0</td>\n",
       "      <td>0</td>\n",
       "      <td>0</td>\n",
       "      <td>0</td>\n",
       "      <td>Hearst</td>\n",
       "    </tr>\n",
       "    <tr>\n",
       "      <th>2</th>\n",
       "      <td>a&amp;e</td>\n",
       "      <td>00-2014</td>\n",
       "      <td>0.0</td>\n",
       "      <td>0.0</td>\n",
       "      <td>0.045455</td>\n",
       "      <td>0.000000</td>\n",
       "      <td>0.0</td>\n",
       "      <td>0.0</td>\n",
       "      <td>0.0</td>\n",
       "      <td>0.0</td>\n",
       "      <td>...</td>\n",
       "      <td>0</td>\n",
       "      <td>0</td>\n",
       "      <td>0</td>\n",
       "      <td>0</td>\n",
       "      <td>0</td>\n",
       "      <td>0</td>\n",
       "      <td>0</td>\n",
       "      <td>0</td>\n",
       "      <td>0</td>\n",
       "      <td>NBCUniversal</td>\n",
       "    </tr>\n",
       "    <tr>\n",
       "      <th>3</th>\n",
       "      <td>a&amp;e</td>\n",
       "      <td>00-2015</td>\n",
       "      <td>0.0</td>\n",
       "      <td>0.0</td>\n",
       "      <td>0.045455</td>\n",
       "      <td>0.000000</td>\n",
       "      <td>0.0</td>\n",
       "      <td>0.0</td>\n",
       "      <td>0.0</td>\n",
       "      <td>0.0</td>\n",
       "      <td>...</td>\n",
       "      <td>0</td>\n",
       "      <td>0</td>\n",
       "      <td>0</td>\n",
       "      <td>0</td>\n",
       "      <td>0</td>\n",
       "      <td>0</td>\n",
       "      <td>0</td>\n",
       "      <td>0</td>\n",
       "      <td>0</td>\n",
       "      <td>Disney</td>\n",
       "    </tr>\n",
       "    <tr>\n",
       "      <th>4</th>\n",
       "      <td>a&amp;e</td>\n",
       "      <td>00-2016</td>\n",
       "      <td>0.0</td>\n",
       "      <td>0.0</td>\n",
       "      <td>0.090909</td>\n",
       "      <td>0.045455</td>\n",
       "      <td>0.0</td>\n",
       "      <td>0.0</td>\n",
       "      <td>0.0</td>\n",
       "      <td>0.0</td>\n",
       "      <td>...</td>\n",
       "      <td>0</td>\n",
       "      <td>0</td>\n",
       "      <td>0</td>\n",
       "      <td>0</td>\n",
       "      <td>0</td>\n",
       "      <td>0</td>\n",
       "      <td>0</td>\n",
       "      <td>0</td>\n",
       "      <td>0</td>\n",
       "      <td>Hearst</td>\n",
       "    </tr>\n",
       "  </tbody>\n",
       "</table>\n",
       "<p>5 rows × 96 columns</p>\n",
       "</div>"
      ],
      "text/plain": [
       "  network   wkyear  hourscomedy  hourscompetition  hoursdocumentary  \\\n",
       "0     a&e  00-2009          0.0               0.0          0.045455   \n",
       "1     a&e  00-2013          0.0               0.0          0.000000   \n",
       "2     a&e  00-2014          0.0               0.0          0.045455   \n",
       "3     a&e  00-2015          0.0               0.0          0.045455   \n",
       "4     a&e  00-2016          0.0               0.0          0.090909   \n",
       "\n",
       "   hoursdrama  hoursevent  hourshome  hourskids  hoursmovie  ...  Starz Inc  \\\n",
       "0    0.000000         0.0        0.0        0.0         0.0  ...          0   \n",
       "1    0.000000         0.0        0.0        0.0         0.0  ...          0   \n",
       "2    0.000000         0.0        0.0        0.0         0.0  ...          0   \n",
       "3    0.000000         0.0        0.0        0.0         0.0  ...          0   \n",
       "4    0.045455         0.0        0.0        0.0         0.0  ...          0   \n",
       "\n",
       "   Tennis Inc  TimeWarner  Tribune  Univision Verizon  Viacom  Vice Media  \\\n",
       "0           0           0        0          0       0       0           0   \n",
       "1           0           0        0          0       0       0           0   \n",
       "2           0           0        0          0       0       0           0   \n",
       "3           0           0        0          0       0       0           0   \n",
       "4           0           0        0          0       0       0           0   \n",
       "\n",
       "  Yahoo         owner  \n",
       "0     0        Disney  \n",
       "1     0        Hearst  \n",
       "2     0  NBCUniversal  \n",
       "3     0        Disney  \n",
       "4     0        Hearst  \n",
       "\n",
       "[5 rows x 96 columns]"
      ]
     },
     "execution_count": 16,
     "metadata": {},
     "output_type": "execute_result"
    }
   ],
   "source": [
    "prediff.head()"
   ]
  },
  {
   "cell_type": "markdown",
   "metadata": {},
   "source": [
    "## Data Issues <a name=\"dataissues\"></a>\n",
    "\n",
    "Many elements of this data set are less than ideal primarily because of what data was avaialable to be scraped. Here is a list of potential issues:\n",
    "\n",
    "1. Most weeks do not have full schedules. This is particularly true of cable networks and premium channels like HBO. If the scraped data does not look like the full schedule then bias must be present. It's possible that the type of bias is systematic to what is missing, but not possible to determine making the bias worse than if the missing elements were randomly distributed.\n",
    "2. Ideally this analysis would be weighted by the ratings for each show/network as a way of controlling for the reaction of similar networks. Instead the effect of all networks is considered equally so a merger involving current TV is weighed the same as a change in ownership by a more prominent cable channel like E!. \n",
    "3. This is an unbalanced panel as some networks enter and exit during the time period. \n",
    "4. Sports! is complicated because of exclusive contracts so networks may seem different due to the existence of a contract and not a choice by other networks to offer dissimilar programming."
   ]
  },
  {
   "cell_type": "markdown",
   "metadata": {},
   "source": [
    "# Differentiation Measure <a name=\"differentiation\"></a>\n",
    "\n",
    "To measure the difference between two network's schedules I use the [cosine distance measure](https://en.wikipedia.org/wiki/Cosine_similarity). This measure looks at the angle between two vectors of numerical values, in this case each dimension of the vector is the proportion of a weekly schedule that is devoted to a genre. The distance measure is interpreted as follows\n",
    "\n",
    "- 0 = the schedules for both networks have the same proportions of every genre  \n",
    "\n",
    "- 1 = the schedules have no overlap in the genres they aired.\n",
    "\n",
    "The elemeents of the vectors were made earlier. This code creates the vectors, makes a combination of all networks that have data in the same week and year, then creates variables to assess the affects of the mergers.\n",
    "\n",
    "\n"
   ]
  },
  {
   "cell_type": "code",
   "execution_count": 84,
   "metadata": {
    "scrolled": false
   },
   "outputs": [
    {
     "data": {
      "text/html": [
       "<div>\n",
       "<style scoped>\n",
       "    .dataframe tbody tr th:only-of-type {\n",
       "        vertical-align: middle;\n",
       "    }\n",
       "\n",
       "    .dataframe tbody tr th {\n",
       "        vertical-align: top;\n",
       "    }\n",
       "\n",
       "    .dataframe thead th {\n",
       "        text-align: right;\n",
       "    }\n",
       "</style>\n",
       "<table border=\"1\" class=\"dataframe\">\n",
       "  <thead>\n",
       "    <tr style=\"text-align: right;\">\n",
       "      <th></th>\n",
       "      <th>network</th>\n",
       "      <th>wkyear</th>\n",
       "      <th>hourscomedy</th>\n",
       "      <th>hourscompetition</th>\n",
       "      <th>hoursdocumentary</th>\n",
       "      <th>hoursdrama</th>\n",
       "      <th>hoursevent</th>\n",
       "      <th>hourshome</th>\n",
       "      <th>hourskids</th>\n",
       "      <th>hoursmovie</th>\n",
       "      <th>...</th>\n",
       "      <th>Smithsonian</th>\n",
       "      <th>Starz Inc</th>\n",
       "      <th>Tennis Inc</th>\n",
       "      <th>TimeWarner</th>\n",
       "      <th>Tribune</th>\n",
       "      <th>Univision</th>\n",
       "      <th>Verizon</th>\n",
       "      <th>Viacom</th>\n",
       "      <th>Vice Media</th>\n",
       "      <th>Yahoo</th>\n",
       "    </tr>\n",
       "  </thead>\n",
       "  <tbody>\n",
       "    <tr>\n",
       "      <th>0</th>\n",
       "      <td>a&amp;e</td>\n",
       "      <td>00-2009</td>\n",
       "      <td>0.0</td>\n",
       "      <td>0.0</td>\n",
       "      <td>0.045455</td>\n",
       "      <td>0.000000</td>\n",
       "      <td>0.0</td>\n",
       "      <td>0.0</td>\n",
       "      <td>0.0</td>\n",
       "      <td>0.0</td>\n",
       "      <td>...</td>\n",
       "      <td>0</td>\n",
       "      <td>0</td>\n",
       "      <td>0</td>\n",
       "      <td>0</td>\n",
       "      <td>0</td>\n",
       "      <td>0</td>\n",
       "      <td>0</td>\n",
       "      <td>0</td>\n",
       "      <td>0</td>\n",
       "      <td>0</td>\n",
       "    </tr>\n",
       "    <tr>\n",
       "      <th>1</th>\n",
       "      <td>a&amp;e</td>\n",
       "      <td>00-2013</td>\n",
       "      <td>0.0</td>\n",
       "      <td>0.0</td>\n",
       "      <td>0.000000</td>\n",
       "      <td>0.000000</td>\n",
       "      <td>0.0</td>\n",
       "      <td>0.0</td>\n",
       "      <td>0.0</td>\n",
       "      <td>0.0</td>\n",
       "      <td>...</td>\n",
       "      <td>0</td>\n",
       "      <td>0</td>\n",
       "      <td>0</td>\n",
       "      <td>0</td>\n",
       "      <td>0</td>\n",
       "      <td>0</td>\n",
       "      <td>0</td>\n",
       "      <td>0</td>\n",
       "      <td>0</td>\n",
       "      <td>0</td>\n",
       "    </tr>\n",
       "    <tr>\n",
       "      <th>2</th>\n",
       "      <td>a&amp;e</td>\n",
       "      <td>00-2014</td>\n",
       "      <td>0.0</td>\n",
       "      <td>0.0</td>\n",
       "      <td>0.045455</td>\n",
       "      <td>0.000000</td>\n",
       "      <td>0.0</td>\n",
       "      <td>0.0</td>\n",
       "      <td>0.0</td>\n",
       "      <td>0.0</td>\n",
       "      <td>...</td>\n",
       "      <td>0</td>\n",
       "      <td>0</td>\n",
       "      <td>0</td>\n",
       "      <td>0</td>\n",
       "      <td>0</td>\n",
       "      <td>0</td>\n",
       "      <td>0</td>\n",
       "      <td>0</td>\n",
       "      <td>0</td>\n",
       "      <td>0</td>\n",
       "    </tr>\n",
       "    <tr>\n",
       "      <th>3</th>\n",
       "      <td>a&amp;e</td>\n",
       "      <td>00-2015</td>\n",
       "      <td>0.0</td>\n",
       "      <td>0.0</td>\n",
       "      <td>0.045455</td>\n",
       "      <td>0.000000</td>\n",
       "      <td>0.0</td>\n",
       "      <td>0.0</td>\n",
       "      <td>0.0</td>\n",
       "      <td>0.0</td>\n",
       "      <td>...</td>\n",
       "      <td>0</td>\n",
       "      <td>0</td>\n",
       "      <td>0</td>\n",
       "      <td>0</td>\n",
       "      <td>0</td>\n",
       "      <td>0</td>\n",
       "      <td>0</td>\n",
       "      <td>0</td>\n",
       "      <td>0</td>\n",
       "      <td>0</td>\n",
       "    </tr>\n",
       "    <tr>\n",
       "      <th>4</th>\n",
       "      <td>a&amp;e</td>\n",
       "      <td>00-2016</td>\n",
       "      <td>0.0</td>\n",
       "      <td>0.0</td>\n",
       "      <td>0.090909</td>\n",
       "      <td>0.045455</td>\n",
       "      <td>0.0</td>\n",
       "      <td>0.0</td>\n",
       "      <td>0.0</td>\n",
       "      <td>0.0</td>\n",
       "      <td>...</td>\n",
       "      <td>0</td>\n",
       "      <td>0</td>\n",
       "      <td>0</td>\n",
       "      <td>0</td>\n",
       "      <td>0</td>\n",
       "      <td>0</td>\n",
       "      <td>0</td>\n",
       "      <td>0</td>\n",
       "      <td>0</td>\n",
       "      <td>0</td>\n",
       "    </tr>\n",
       "  </tbody>\n",
       "</table>\n",
       "<p>5 rows × 95 columns</p>\n",
       "</div>"
      ],
      "text/plain": [
       "  network   wkyear  hourscomedy  hourscompetition  hoursdocumentary  \\\n",
       "0     a&e  00-2009          0.0               0.0          0.045455   \n",
       "1     a&e  00-2013          0.0               0.0          0.000000   \n",
       "2     a&e  00-2014          0.0               0.0          0.045455   \n",
       "3     a&e  00-2015          0.0               0.0          0.045455   \n",
       "4     a&e  00-2016          0.0               0.0          0.090909   \n",
       "\n",
       "   hoursdrama  hoursevent  hourshome  hourskids  hoursmovie  ...  Smithsonian  \\\n",
       "0    0.000000         0.0        0.0        0.0         0.0  ...            0   \n",
       "1    0.000000         0.0        0.0        0.0         0.0  ...            0   \n",
       "2    0.000000         0.0        0.0        0.0         0.0  ...            0   \n",
       "3    0.000000         0.0        0.0        0.0         0.0  ...            0   \n",
       "4    0.045455         0.0        0.0        0.0         0.0  ...            0   \n",
       "\n",
       "   Starz Inc  Tennis Inc  TimeWarner  Tribune  Univision  Verizon  Viacom  \\\n",
       "0          0           0           0        0          0        0       0   \n",
       "1          0           0           0        0          0        0       0   \n",
       "2          0           0           0        0          0        0       0   \n",
       "3          0           0           0        0          0        0       0   \n",
       "4          0           0           0        0          0        0       0   \n",
       "\n",
       "   Vice Media  Yahoo  \n",
       "0           0      0  \n",
       "1           0      0  \n",
       "2           0      0  \n",
       "3           0      0  \n",
       "4           0      0  \n",
       "\n",
       "[5 rows x 95 columns]"
      ]
     },
     "execution_count": 84,
     "metadata": {},
     "output_type": "execute_result"
    }
   ],
   "source": [
    "# Read in network per week data\n",
    "diffmeas = pd.read_csv('prediff.csv')\n",
    "diffmeas.sort_values(by = ['wkyear', 'network'])\n",
    "\n",
    "# The following pulls out a slice that is useful for testing code not on the full data set\n",
    "#diffmeas = diffmeas.query('network == \"abc\" and year == \"2010\" or network == \"nbc\" and year == \"2010\" or network == \"disney\" and year == \"2010\"').reset_index(drop=True)\n",
    "\n",
    "diffmeas.head()"
   ]
  },
  {
   "cell_type": "code",
   "execution_count": 85,
   "metadata": {},
   "outputs": [],
   "source": [
    "# Create a dataframe of all combinations of network within wkyear\n",
    "\n",
    "# Create a DataFrame of just weeks and networks\n",
    "dfcombo1 = diffmeas[['wkyear','network']]\n",
    "\n",
    "\n",
    "# makes a combination of all networks within wkyear groups \n",
    "dfcombo2 = (dfcombo1.groupby('wkyear')['network'].apply(lambda x: pd.DataFrame(list(combinations(x,2))))\n",
    "        .reset_index(level=1, drop=True)\n",
    "        .reset_index())\n",
    "dfcombo2.columns = ['wkyear','network','network2']\n"
   ]
  },
  {
   "cell_type": "code",
   "execution_count": 86,
   "metadata": {
    "scrolled": true
   },
   "outputs": [],
   "source": [
    "#  Creates the second network's variables to be merged with the combinations of networks\n",
    "diffmeas2 = diffmeas.copy()          # Creates a copy of diffmeas to merge using network 2 \n",
    "\n",
    "diffmeas2.columns = [str(col)+'2' for col in diffmeas2.columns]          # adds a 2 to all column names\n",
    "diffmeas2.rename(columns={'wkyear2':'wkyear'}, inplace=True)          # rename wkyear so it can be merged\n"
   ]
  },
  {
   "cell_type": "code",
   "execution_count": 87,
   "metadata": {},
   "outputs": [],
   "source": [
    "# Merges the both network's genre vector and ownership information\n",
    "diff = pd.merge(dfcombo2, diffmeas, how=\"left\", on=['network','wkyear'])          # merges first network data\n",
    "diff = pd.merge(diff, diffmeas2, how=\"left\", on=['network2','wkyear'])          # merges second network data"
   ]
  },
  {
   "cell_type": "markdown",
   "metadata": {},
   "source": [
    "### netpairs and common ownership\n",
    "\n",
    "creates variables to identify when a network pair are owned by the same firm."
   ]
  },
  {
   "cell_type": "code",
   "execution_count": 88,
   "metadata": {},
   "outputs": [],
   "source": [
    "# Makes a network pair variable\n",
    "diff['netpair'] = diff['network'] + diff['network2']\n"
   ]
  },
  {
   "cell_type": "code",
   "execution_count": 89,
   "metadata": {},
   "outputs": [],
   "source": [
    "# The obnoxious way of creating the differentiation measure\n",
    "diff['numerator'] = diff['hourscomedy']*diff['hourscomedy2'] + diff['hourscompetition']*diff['hourscompetition2'] + diff['hoursdocumentary']*diff['hoursdocumentary2'] + diff['hoursdrama']*diff['hoursdrama2'] + diff['hoursevent']*diff['hoursevent2'] + diff['hourshome']*diff['hourshome2'] + diff['hourskids']*diff['hourskids2'] + diff['hoursmovie']*diff['hoursmovie2'] + diff['hoursmusic']*diff['hoursmusic2'] + diff['hoursnews']*diff['hoursnews2'] + diff['hoursreality']*diff['hoursreality2'] + diff['hourssports']*diff['hourssports2'] + diff['hourstalk']*diff['hourstalk2']\n",
    "\n",
    "diff['denominator1'] = np.sqrt( np.square(diff['hourscomedy']) + np.square(diff['hourscompetition']) + np.square(diff['hoursdocumentary']) + np.square(diff['hoursdrama']) + np.square(diff['hoursevent'])+ np.square(diff['hourshome']) + np.square(diff['hourskids']) + np.square(diff['hoursmovie']) + np.square(diff['hoursmusic']) + np.square(diff['hoursnews']) + np.square(diff['hoursreality'])+ np.square(diff['hourssports']) + np.square(diff['hourstalk']))\n",
    "diff['denominator2'] = np.sqrt( np.square(diff['hourscomedy2']) + np.square(diff['hourscompetition2']) + np.square(diff['hoursdocumentary2']) + np.square(diff['hoursdrama2']) + np.square(diff['hoursevent2'])+ np.square(diff['hourshome2']) + np.square(diff['hourskids2']) + np.square(diff['hoursmovie2']) + np.square(diff['hoursmusic2']) + np.square(diff['hoursnews2']) + np.square(diff['hoursreality2'])+ np.square(diff['hourssports2']) + np.square(diff['hourstalk2']))\n",
    "\n",
    "diff['sim'] = diff['numerator']/(diff['denominator1']*diff['denominator2'])\n",
    "\n",
    "diff['dist'] = 1 -diff['numerator']/(diff['denominator1']*diff['denominator2'])"
   ]
  },
  {
   "cell_type": "code",
   "execution_count": 90,
   "metadata": {},
   "outputs": [],
   "source": [
    "# Creating commonowner variable = 1 when both networks in pair are owned by same firm, 0 otherwise\n",
    "diff['commonowner'] = np.nan\n",
    "diff['commonowner'] = np.where(diff.loc[:,'2929 Entertainment':'Yahoo'].eq(diff.loc[:,'2929 Entertainment2':'Yahoo2'].to_numpy()).all(axis=1),1,0)\n"
   ]
  },
  {
   "cell_type": "code",
   "execution_count": 834,
   "metadata": {},
   "outputs": [],
   "source": [
    "diff.to_csv(\"diff.csv\", index=False)"
   ]
  },
  {
   "cell_type": "markdown",
   "metadata": {},
   "source": [
    "### Identifying mergers, pre and post merger variables\n",
    "\n",
    "Creates variables for the merger analysis."
   ]
  },
  {
   "cell_type": "code",
   "execution_count": 78,
   "metadata": {},
   "outputs": [],
   "source": [
    "# read in the data\n",
    "diff = pd.read_csv('diff.csv')"
   ]
  },
  {
   "cell_type": "code",
   "execution_count": 91,
   "metadata": {},
   "outputs": [],
   "source": [
    "# DF organized by just netpair and year to identify commonowner changes\n",
    "\n",
    "dfchangeowner = diff.groupby(['netpair','year'], as_index=False).agg({'commonowner':'mean'})\n",
    "\n",
    "dfchangeowner['change'] = dfchangeowner.groupby(['netpair'])['commonowner'].diff()\n",
    "dfchangeowner['change'].fillna(0, inplace=True)\n",
    "\n",
    "dfchangeowner['merged'] = dfchangeowner['change'].groupby(dfchangeowner['netpair']).transform('sum') # variable identifying a netpair that merges at any point in the time period\n",
    "\n",
    "# creates the postmerge variable, but only for netpairs that merge\n",
    "dfchangeowner['postmerge'] = dfchangeowner[dfchangeowner['merged']==1].groupby('netpair')['change'].cumsum()"
   ]
  },
  {
   "cell_type": "code",
   "execution_count": 92,
   "metadata": {},
   "outputs": [],
   "source": [
    "# Creates the premerge variable, but only for netpairs that merge\n",
    "def reverse(x,y):\n",
    "    if x < 1 and y > 0:\n",
    "        return 1\n",
    "    elif x > 0 and y > 0:\n",
    "        return 0\n",
    "    else: return np.nan\n",
    "\n",
    "    \n",
    "func = np.vectorize(reverse)\n",
    "dfchangeowner['premerge'] = func(dfchangeowner['postmerge'],dfchangeowner['merged'])    \n",
    "    "
   ]
  },
  {
   "cell_type": "code",
   "execution_count": 93,
   "metadata": {},
   "outputs": [],
   "source": [
    "# Merges merger identifiers back to full data set\n",
    "diff = pd.merge(diff, dfchangeowner, how=\"left\", on=['netpair','year'])"
   ]
  },
  {
   "cell_type": "code",
   "execution_count": 94,
   "metadata": {},
   "outputs": [],
   "source": [
    "# Create tv season dummies by week\n",
    "## Spring: January - May\n",
    "## Summer: June - August\n",
    "## Winter: September - December\n",
    "\n",
    "seasonconditions = [\n",
    "    (diff['week'] <= 20),\n",
    "    (diff['week'] > 20) & (diff['week'] <35),\n",
    "    (diff['week'] >= 36)\n",
    "]\n",
    "\n",
    "seasonvalues = ['spring','summer','fall']\n",
    "\n",
    "diff['season'] = np.select(seasonconditions, seasonvalues)"
   ]
  },
  {
   "cell_type": "code",
   "execution_count": 95,
   "metadata": {},
   "outputs": [],
   "source": [
    "# create a time variable for analysis and graphs\n",
    "diff['weeks'] = pd.to_datetime(diff.year.astype(str), format='%Y') + \\\n",
    "             pd.to_timedelta(diff.week.mul(7).astype(str) + ' days')"
   ]
  },
  {
   "cell_type": "code",
   "execution_count": 96,
   "metadata": {},
   "outputs": [
    {
     "data": {
      "text/plain": [
       "1595605"
      ]
     },
     "execution_count": 96,
     "metadata": {},
     "output_type": "execute_result"
    }
   ],
   "source": [
    "len(diff)"
   ]
  },
  {
   "cell_type": "code",
   "execution_count": 44,
   "metadata": {},
   "outputs": [],
   "source": [
    "diff.to_csv(\"diff2.csv\", index=False)"
   ]
  },
  {
   "cell_type": "markdown",
   "metadata": {},
   "source": [
    "## Cosine Distance Measure"
   ]
  },
  {
   "cell_type": "code",
   "execution_count": 45,
   "metadata": {},
   "outputs": [],
   "source": [
    "# Grouping data for graph\n",
    "conomrg = diff.query('merged == 0 & commonowner_x == 1')\n",
    "conomrg = conomrg.assign(conomrg = 1)\n",
    "diff = pd.merge(diff, conomrg['conomrg'], how = 'left', left_index=True, right_index=True)\n",
    "\n",
    "nconomrg = diff.query('merged == 0 & commonowner_x == 0')\n",
    "nconomrg = nconomrg.assign(nconomrg = 1)\n",
    "diff = pd.merge(diff, nconomrg['nconomrg'], how = 'left', left_index=True, right_index=True)\n",
    "\n",
    "diff['conomrg'] = diff['conomrg'].fillna(0)\n",
    "diff['nconomrg'] = diff['nconomrg'].fillna(0)\n",
    "\n",
    "\n",
    "yearly = diff.pivot_table(\n",
    "    index=['year'],\n",
    "    columns=['merged','conomrg','nconomrg'],\n",
    "    values=['dist']\n",
    "    ).reset_index()\n",
    "\n",
    "yearly.columns = ['year','Not Merged','no CO no Mrg','CO no Mrg','Merged']"
   ]
  },
  {
   "cell_type": "code",
   "execution_count": 77,
   "metadata": {},
   "outputs": [
    {
     "data": {
      "text/plain": [
       "Text(0.5, 1.0, 'Cosine Distance over time')"
      ]
     },
     "execution_count": 77,
     "metadata": {},
     "output_type": "execute_result"
    },
    {
     "data": {
      "image/png": "[encoded data removed]",
      "text/plain": [
       "<Figure size 720x360 with 1 Axes>"
      ]
     },
     "metadata": {
      "needs_background": "light"
     },
     "output_type": "display_data"
    }
   ],
   "source": [
    "plt.figure(figsize=(10,5))\n",
    "ax = plt.gca()\n",
    "yearly.plot(kind='line',x='year',y='Merged', ax=ax)\n",
    "yearly.plot(kind='line',x='year',y='no CO no Mrg', ax=ax)\n",
    "yearly.plot(kind='line',x='year',y='CO no Mrg', ax=ax)\n",
    "plt.ylim(0.55,0.85)\n",
    "plt.xlabel('Year')\n",
    "plt.ylabel('Cosine Distance')\n",
    "plt.title('Cosine Distance over time', fontsize=22)"
   ]
  },
  {
   "cell_type": "markdown",
   "metadata": {},
   "source": [
    "# Analysis <a name=\"analysis\"></a>\n",
    "\n",
    "**How do programming schedules change after mergers?**  \n",
    "\n",
    "Here I show an event study analysis using the differences-in-differences techniques. The network pairs that merged between 2007 and 2016 are the \"treated group\" and the \"control group\" are network pairs that did not. This method lends itself to time based changes as we can compare pre and post merger. To simplify the evaluation I assume that the merger occurs at the beginning of the year that the merger occurs although that timing is not true of the merger dates. Additionally, it is likely that the timing of changing the programming lineup takes time beyond the initial merger date. For a fuller discussion of the timing and choices in this methodology I invite you to read the paper draft."
   ]
  },
  {
   "cell_type": "markdown",
   "metadata": {},
   "source": [
    "The simplest analysis of the effect of the mergers is to compare the cosine distance within the firms that merged. The following code takes the difference between the cosine distance of network pairs that merge before and after the merger."
   ]
  },
  {
   "cell_type": "code",
   "execution_count": 97,
   "metadata": {},
   "outputs": [
    {
     "name": "stdout",
     "output_type": "stream",
     "text": [
      "Before the mergers these network pairs have a cosine distance of 0.744923144206541 and after the merger 0.7093731973997137  the change from before to after is -0.035549946806827326\n"
     ]
    }
   ],
   "source": [
    "merged_before = diff.query('merged == 1 & postmerge == 0')['dist'].mean()\n",
    "merged_after = diff.query('merged == 1 & postmerge == 1')['dist'].mean()\n",
    "merged_diff = merged_after - merged_before \n",
    "\n",
    "print('Before the mergers these network pairs have a cosine distance of', merged_before, 'and after the merger', merged_after,' the change from before to after is', merged_diff)"
   ]
  },
  {
   "cell_type": "markdown",
   "metadata": {},
   "source": [
    "This suggests that on average networks that merged showed more similar programming after the merger. However, we don't know if this difference is because the networks that merge are different than networks that don't or if the difference is from trends affecting all networks like reality tv becoming more popular. \n",
    "\n",
    "To address these questions we need to use a control group as a comparison, in this case the firms that did not merge in this time period. However, that brings up another issue in that several mergers occur in this data set at different times. "
   ]
  },
  {
   "cell_type": "markdown",
   "metadata": {},
   "source": [
    "## Analysis of Mergers in 2013 <a name=\"merge2013\"></a>"
   ]
  },
  {
   "cell_type": "code",
   "execution_count": 76,
   "metadata": {},
   "outputs": [
    {
     "data": {
      "text/plain": [
       "['a&ebio',\n",
       " 'a&eespn',\n",
       " 'a&eespn2',\n",
       " 'a&eespnu',\n",
       " 'a&eh2',\n",
       " 'biohistory',\n",
       " 'espn2history',\n",
       " 'espn2lifetime',\n",
       " 'espn2lmn',\n",
       " 'espnhistory',\n",
       " 'espnuhistory',\n",
       " 'espnulifetime',\n",
       " 'espnulmn',\n",
       " 'h2history',\n",
       " 'h2lifetime',\n",
       " 'h2lmn']"
      ]
     },
     "execution_count": 76,
     "metadata": {},
     "output_type": "execute_result"
    }
   ],
   "source": [
    "mrg2013 = dfchangeowner.query('merged == 1 and change == 1 and year == 2013')['netpair'].tolist()\n",
    "\n",
    "mrg2013"
   ]
  },
  {
   "cell_type": "markdown",
   "metadata": {},
   "source": [
    "We can do the same analysis of pre and post cosine distance for the network pairs that merged in this year, but now we will also compare this change to all of the netpairs that never merged in this time span."
   ]
  },
  {
   "cell_type": "code",
   "execution_count": 939,
   "metadata": {
    "scrolled": true
   },
   "outputs": [],
   "source": [
    "# Makes two data frames one for netpairs that merged and one for netpairs that didn't\n",
    "mergers = diff.query('merged == 1')\n",
    "nomergers = diff.query('merged == 0')"
   ]
  },
  {
   "cell_type": "code",
   "execution_count": 940,
   "metadata": {},
   "outputs": [],
   "source": [
    "# makes a dataframe from the netpairs that merged in 2013\n",
    "dfm13 = mergers[~mergers['netpair'].isin(mrg2013)]\n",
    "\n",
    "#combines it with control group netpairs\n",
    "df13 = pd.concat([nomergers,dfm13]).reset_index()\n",
    "\n",
    "df13['postmerge'] = np.where((df13['weeks'] >= '2013-01-01'), 1, 0)"
   ]
  },
  {
   "cell_type": "code",
   "execution_count": 941,
   "metadata": {
    "scrolled": true
   },
   "outputs": [
    {
     "name": "stdout",
     "output_type": "stream",
     "text": [
      "The difference for the merged group is -0.03399945947696159 and for the nonmerged group is 0.007901730037514598 . Using the control group of netpairs that never merged we see the overall effect of the mergers is -0.04190118951447619\n"
     ]
    }
   ],
   "source": [
    "# Calculate comparison statistics\n",
    "\n",
    "merged_before = df13.query('merged == 1 & postmerge == 0')['dist'].mean()\n",
    "merged_after = df13.query('merged == 1 & postmerge == 1')['dist'].mean()\n",
    "merged_diff = merged_after - merged_before \n",
    "\n",
    "nomerged_before = df13.query('merged == 0 & postmerge == 0')['dist'].mean()\n",
    "nomerged_after = df13.query('merged == 0 & postmerge == 1')['dist'].mean()\n",
    "nomerged_diff = nomerged_after - nomerged_before \n",
    "\n",
    "diff_in_diff = merged_diff - nomerged_diff\n",
    "\n",
    "print('The difference for the merged group is', merged_diff, 'and for the nonmerged group is', nomerged_diff, '. Using the control group of netpairs that never merged we see the overall effect of the mergers is', diff_in_diff)      "
   ]
  },
  {
   "cell_type": "markdown",
   "metadata": {},
   "source": [
    "Assuming that all netpairs would have the same trend without the intervention of a merger we see that overall effect is that the merged networks become less diverse than if they had not merged!"
   ]
  },
  {
   "cell_type": "code",
   "execution_count": 942,
   "metadata": {},
   "outputs": [
    {
     "data": {
      "image/png": "[encoded data removed]",
      "text/plain": [
       "<Figure size 720x360 with 1 Axes>"
      ]
     },
     "metadata": {
      "needs_background": "light"
     },
     "output_type": "display_data"
    }
   ],
   "source": [
    "plt.figure(figsize=(10,5))\n",
    "plt.plot([\"Before\", \"After\"], [nomerged_before, nomerged_after], label=\"Not Merged\", lw=2)\n",
    "plt.plot([\"Before\", \"After\"], [merged_before, merged_after], label=\"Merged\", lw=2)\n",
    "\n",
    "plt.plot([\"Before\", \"After\"], [merged_before, merged_before+(nomerged_after-nomerged_before)],\n",
    "         label=\"Counterfactual\", lw=2, color=\"C2\", ls=\"-.\")\n",
    "\n",
    "plt.legend();"
   ]
  },
  {
   "cell_type": "markdown",
   "metadata": {},
   "source": [
    "In this graph the distance between the yellow line and the green line at the \"after\" point is the difference in difference estimator\n",
    "\n",
    "Finally, here is this same approach using a regression:"
   ]
  },
  {
   "cell_type": "code",
   "execution_count": 943,
   "metadata": {},
   "outputs": [
    {
     "data": {
      "text/html": [
       "<table class=\"simpletable\">\n",
       "<tr>\n",
       "          <td></td>            <th>coef</th>     <th>std err</th>      <th>t</th>      <th>P>|t|</th>  <th>[0.025</th>    <th>0.975]</th>  \n",
       "</tr>\n",
       "<tr>\n",
       "  <th>Intercept</th>        <td>    0.7859</td> <td>    0.000</td> <td> 2049.774</td> <td> 0.000</td> <td>    0.785</td> <td>    0.787</td>\n",
       "</tr>\n",
       "<tr>\n",
       "  <th>merged</th>           <td>   -0.1644</td> <td>    0.005</td> <td>  -30.351</td> <td> 0.000</td> <td>   -0.175</td> <td>   -0.154</td>\n",
       "</tr>\n",
       "<tr>\n",
       "  <th>postmerge</th>        <td>    0.0079</td> <td>    0.001</td> <td>   15.352</td> <td> 0.000</td> <td>    0.007</td> <td>    0.009</td>\n",
       "</tr>\n",
       "<tr>\n",
       "  <th>merged:postmerge</th> <td>   -0.0419</td> <td>    0.008</td> <td>   -5.072</td> <td> 0.000</td> <td>   -0.058</td> <td>   -0.026</td>\n",
       "</tr>\n",
       "</table>"
      ],
      "text/plain": [
       "<class 'statsmodels.iolib.table.SimpleTable'>"
      ]
     },
     "execution_count": 943,
     "metadata": {},
     "output_type": "execute_result"
    }
   ],
   "source": [
    " smf.ols('dist ~ merged*postmerge', data=df13).fit().summary().tables[1]"
   ]
  },
  {
   "cell_type": "markdown",
   "metadata": {},
   "source": [
    "An important assumption of this method is that the control group and the treatment group have similar pretrends. There's no explicit test for what makes a similar pretrend, but we can look at it graphically:"
   ]
  },
  {
   "cell_type": "code",
   "execution_count": 964,
   "metadata": {},
   "outputs": [
    {
     "data": {
      "image/png": "[encoded data removed]",
      "text/plain": [
       "<Figure size 720x360 with 1 Axes>"
      ]
     },
     "metadata": {
      "needs_background": "light"
     },
     "output_type": "display_data"
    }
   ],
   "source": [
    "nomerged_before11 = df13.query('merged == 0 & postmerge == 0 & year == 2011')['dist'].mean()\n",
    "nomerged_before12 = df13.query('merged == 0 & postmerge == 0 & year == 2012')['dist'].mean()\n",
    "\n",
    "merged_before11 = df13.query('merged == 1 & postmerge == 0 & year == 2011')['dist'].mean()\n",
    "merged_before12 = df13.query('merged == 1 & postmerge == 0 & year == 2012')['dist'].mean()\n",
    "\n",
    "plt.figure(figsize=(10,5))\n",
    "x = [\"2011\", \"2012\", \"2013\", \"2014\"]\n",
    "\n",
    "plt.plot(x, [nomerged_before11, nomerged_before12, nomerged_before,  nomerged_after], label=\"Not Merged\", lw=2)\n",
    "plt.plot(x, [merged_before11, merged_before12, merged_before, merged_after], label=\"Merged\", lw=2)\n",
    "\n",
    "plt.plot([\"2013\", \"2014\"], [merged_before, merged_before+(nomerged_after-nomerged_before)], label=\"Counterfactual\", lw=2, color=\"C2\", ls=\"-.\")\n",
    "\n",
    "\n",
    "plt.legend();"
   ]
  },
  {
   "cell_type": "markdown",
   "metadata": {},
   "source": [
    "The trend for the merged group is not very similar in the period shown here because of the big dip in 2012. Although between 2011 and 2013 the trend is more parallel to the not merged firms. The takeaway from the graph and the previous results is that this group of firms that merged tended to be more similar than the average never merged networks."
   ]
  },
  {
   "cell_type": "code",
   "execution_count": null,
   "metadata": {},
   "outputs": [],
   "source": []
  }
 ],
 "metadata": {
  "kernelspec": {
   "display_name": "Python 3",
   "language": "python",
   "name": "python3"
  },
  "language_info": {
   "codemirror_mode": {
    "name": "ipython",
    "version": 3
   },
   "file_extension": ".py",
   "mimetype": "text/x-python",
   "name": "python",
   "nbconvert_exporter": "python",
   "pygments_lexer": "ipython3",
   "version": "3.8.3"
  }
 },
 "nbformat": 4,
 "nbformat_minor": 4
}
